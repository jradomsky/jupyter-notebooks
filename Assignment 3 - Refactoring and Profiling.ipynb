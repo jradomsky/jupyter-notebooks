{
 "cells": [
  {
   "cell_type": "code",
   "execution_count": 4,
   "id": "5f245ef8",
   "metadata": {},
   "outputs": [],
   "source": [
    "import numpy\n",
    "import math\n",
    "import random"
   ]
  },
  {
   "cell_type": "markdown",
   "id": "ee0456de",
   "metadata": {},
   "source": [
    "## FUNCTION 1/6 - after06 Median\n",
    "\n",
    "\n",
    "def median(li):  # compute the median value from a 1D list\n",
    "\n",
    "    return the median value or upper median if even number of values\n",
    "    \n",
    "    example: median([1,3,5,7,9]) returns 5, median([1,3,5,7,9,10]) returns 7"
   ]
  },
  {
   "cell_type": "code",
   "execution_count": 9,
   "id": "198eb839",
   "metadata": {},
   "outputs": [],
   "source": [
    "#code block of original code\n",
    "\n",
    "def median(li):\n",
    "    n = len(li)\n",
    "    li.sort()\n",
    "    if n % 2 == 0:\n",
    "        return (li[n//2 - 1] + li[n//2]) / 2\n",
    "    else:\n",
    "        return li[n//2]"
   ]
  },
  {
   "cell_type": "code",
   "execution_count": 10,
   "id": "d30098d8",
   "metadata": {},
   "outputs": [],
   "source": [
    "#new, refactored function with name as function2\n",
    "\n",
    "def median2(li):\n",
    "    li.sort()\n",
    "    return li[len(li) // 2]"
   ]
  },
  {
   "cell_type": "code",
   "execution_count": 21,
   "id": "0e9ad3ee",
   "metadata": {},
   "outputs": [
    {
     "name": "stdout",
     "output_type": "stream",
     "text": [
      "[76, 54, 20, 27, 52, 23, 88, 7, 95, 8]\n",
      "[31, 31, 31, 96, 67, 1, 60, 74, 60, 12]\n",
      "[9, 21, 92, 76, 28, 24, 73, 77, 9, 62]\n",
      "[21, 14, 43, 38, 51, 45, 98, 3, 90, 54]\n",
      "[73, 41, 98, 17, 87, 97, 87, 65, 61, 32]\n",
      "[82, 58, 71, 67, 17, 72, 22, 45, 42, 64]\n",
      "[25, 14, 79, 55, 38, 81, 45, 90, 45, 71]\n",
      "[41, 99, 25, 98, 17, 13, 38, 82, 19, 36]\n",
      "[27, 96, 62, 4, 85, 71, 32, 18, 5, 53]\n",
      "[83, 9, 15, 24, 99, 22, 10, 92, 64, 6]\n"
     ]
    }
   ],
   "source": [
    "#use a for loop to create 10 lists of randomly selected numbers to use for testing\n",
    "tests = [[random.randint(1,100) for i in range(10)]for i in range(10)]\n",
    "tests\n",
    "for item in tests:\n",
    "    print(item)"
   ]
  },
  {
   "cell_type": "code",
   "execution_count": 22,
   "id": "89e5baac",
   "metadata": {},
   "outputs": [
    {
     "name": "stdout",
     "output_type": "stream",
     "text": [
      "2.97 µs ± 3.8 ns per loop (mean ± std. dev. of 7 runs, 100,000 loops each)\n"
     ]
    }
   ],
   "source": [
    "%%timeit\n",
    "results = [median(item) for item in tests]\n",
    "\n",
    "#timing and testing original function"
   ]
  },
  {
   "cell_type": "code",
   "execution_count": 23,
   "id": "24c4e83f",
   "metadata": {},
   "outputs": [
    {
     "name": "stdout",
     "output_type": "stream",
     "text": [
      "1.84 µs ± 11 ns per loop (mean ± std. dev. of 7 runs, 1,000,000 loops each)\n"
     ]
    }
   ],
   "source": [
    "%%timeit\n",
    "results = [median2(item) for item in tests]\n",
    "\n",
    "#timing and testing new function"
   ]
  },
  {
   "cell_type": "markdown",
   "id": "1316e7d5",
   "metadata": {},
   "source": [
    "My new code here provides a much more elegant solution than my original code.\n",
    "\n",
    "My original code was lengthy and more convoluted than it needed to be. \n",
    "\n",
    "My new code accomplishes what my original did, but only in two lines. \n",
    "\n",
    "When timed, we can see that the new, refactored code executes in 1.84 microseconds,\n",
    "\n",
    "while the old code executes in 2.97 microseconds."
   ]
  },
  {
   "cell_type": "markdown",
   "id": "1799c21b",
   "metadata": {},
   "source": [
    "## FUNCTION 2/6 - after02 Into\n",
    "\n",
    "def into(x,y): # function to answer how many times the first number (x) goes into the second(y)\n",
    "\n",
    "both are integers \n",
    "\n",
    "    # return both the number of integer times and the remainder \n",
    "    # Example: into(3,10) returns (3,1)"
   ]
  },
  {
   "cell_type": "code",
   "execution_count": 34,
   "id": "0519767b",
   "metadata": {},
   "outputs": [],
   "source": [
    "#code block of original code\n",
    "\n",
    "def into(x,y):\n",
    "    if x == 0:\n",
    "        return 'infinite'\n",
    "    else: \n",
    "        return math.floor(y / x), y%x"
   ]
  },
  {
   "cell_type": "code",
   "execution_count": 35,
   "id": "c11d5672",
   "metadata": {},
   "outputs": [],
   "source": [
    "# new refactored funcrtion with name as function 2\n",
    "\n",
    "def into2(x,y):\n",
    "    return(y//x, y%x)"
   ]
  },
  {
   "cell_type": "code",
   "execution_count": 36,
   "id": "e713a74c",
   "metadata": {},
   "outputs": [
    {
     "name": "stdout",
     "output_type": "stream",
     "text": [
      "[(31, 91), (2, 34), (100, 18), (70, 9), (19, 55), (67, 22), (25, 7), (95, 4), (43, 76), (9, 98)]\n"
     ]
    }
   ],
   "source": [
    "pairs = []\n",
    "\n",
    "# loop runs 10 times to create 10 pairs\n",
    "for i in range(10):\n",
    "    # get two random integers between 1 and 100\n",
    "    num1 = random.randint(1, 100)\n",
    "    num2 = random.randint(1, 100)\n",
    "    # put the pair in the list\n",
    "    pairs.append((num1, num2))\n",
    "\n",
    "print(pairs)\n"
   ]
  },
  {
   "cell_type": "code",
   "execution_count": 41,
   "id": "4eb7e404",
   "metadata": {},
   "outputs": [
    {
     "name": "stdout",
     "output_type": "stream",
     "text": [
      "4.18 µs ± 36.3 ns per loop (mean ± std. dev. of 7 runs, 100,000 loops each)\n"
     ]
    }
   ],
   "source": [
    "%%timeit\n",
    "results = [into(num1,num2) for item in pairs]\n",
    "#timing and testing original function"
   ]
  },
  {
   "cell_type": "code",
   "execution_count": 43,
   "id": "8ea0c556",
   "metadata": {},
   "outputs": [
    {
     "name": "stdout",
     "output_type": "stream",
     "text": [
      "2.89 µs ± 142 ns per loop (mean ± std. dev. of 7 runs, 100,000 loops each)\n"
     ]
    }
   ],
   "source": [
    "%%timeit\n",
    "results = [into2(num1,num2) for item in pairs]\n",
    "#timing and testing new function"
   ]
  },
  {
   "cell_type": "markdown",
   "id": "073fcf9c",
   "metadata": {},
   "source": [
    "My new code eliminates the use of an if-else statement.\n",
    "\n",
    "It also eliminates the need to specicifically outline edge cases such as when x = 0.\n",
    "\n",
    "We can see the change in performance of this code, as the new code took 2.89 microseconds to execute, \n",
    "\n",
    "while the old code took 4.18 microseconds to execute."
   ]
  },
  {
   "cell_type": "markdown",
   "id": "e08e411e",
   "metadata": {},
   "source": [
    "## FUNCTION 3/6 - after04 addevens\n",
    "\n",
    "def addevens(s):    #add all even integers less than or equal to a passed value (s)\n",
    "\n",
    "    #return the sum\n",
    "    # example addevens(5) returns 6 (2 + 4)\n",
    "    # example addevens(24) returns 156"
   ]
  },
  {
   "cell_type": "code",
   "execution_count": 44,
   "id": "270fb4ea",
   "metadata": {},
   "outputs": [],
   "source": [
    "#code block of original code\n",
    "\n",
    "def addevens(s):\n",
    "    k = 0\n",
    "    for num in range(s+1):\n",
    "        if num % 2 == 0:\n",
    "            k += num\n",
    "    return k"
   ]
  },
  {
   "cell_type": "code",
   "execution_count": 45,
   "id": "47c512c1",
   "metadata": {},
   "outputs": [],
   "source": [
    "# new refactored code with name as function 2\n",
    "\n",
    "def addevens2(s):\n",
    "    k = 0\n",
    "    for num in range(s+1,2):\n",
    "        k += num\n",
    "    return k"
   ]
  },
  {
   "cell_type": "code",
   "execution_count": 46,
   "id": "bf02d5da",
   "metadata": {},
   "outputs": [],
   "source": [
    "tests = [random.randint(1,100) for i in range(10)]"
   ]
  },
  {
   "cell_type": "code",
   "execution_count": 47,
   "id": "e42a2c79",
   "metadata": {},
   "outputs": [
    {
     "name": "stdout",
     "output_type": "stream",
     "text": [
      "63.4 µs ± 672 ns per loop (mean ± std. dev. of 7 runs, 10,000 loops each)\n"
     ]
    }
   ],
   "source": [
    "%%timeit\n",
    "results = [addevens(item) for item in tests]\n",
    "\n",
    "#timing and testing original function"
   ]
  },
  {
   "cell_type": "code",
   "execution_count": 48,
   "id": "b6614d85",
   "metadata": {},
   "outputs": [
    {
     "name": "stdout",
     "output_type": "stream",
     "text": [
      "3.99 µs ± 58.6 ns per loop (mean ± std. dev. of 7 runs, 100,000 loops each)\n"
     ]
    }
   ],
   "source": [
    "%%timeit\n",
    "results = [addevens2(item) for item in tests]\n",
    "\n",
    "#timing and testing new function"
   ]
  },
  {
   "cell_type": "markdown",
   "id": "494dd886",
   "metadata": {},
   "source": [
    "My new code performs drastically better than my old code. \n",
    "\n",
    "This is because I institute a step in my range, rather than\n",
    "\n",
    "asking the code to check the math on if num % 2 == 0 for each number.\n",
    "\n",
    "The old code executed at 63.4 microseconds, with a 672 nanosecond std dev.\n",
    "\n",
    "The new code executed at 3.99 microseconds with a 58.6 nanosecond std. dev.\n",
    "\n",
    "This is a 16x increase in speed"
   ]
  },
  {
   "cell_type": "markdown",
   "id": "db7ba7f9",
   "metadata": {},
   "source": [
    "## FUNCTION 4/6 - after04 else1\n",
    "\n",
    "def else1(n): # given a number, we want to see if it has a factor 5 or less\n",
    "\n",
    "    #return True if so, False if not, stop checking once you know it is True\n",
    "    #example else1(23)  returns False as none of the values 2, 3, 4, 5 are integer factors of 23\n",
    "    #example else1(15) returns True as 3 is a factor of 15\n"
   ]
  },
  {
   "cell_type": "code",
   "execution_count": 49,
   "id": "f06bc27c",
   "metadata": {},
   "outputs": [],
   "source": [
    "#code block of original code\n",
    "\n",
    "def else1(n):\n",
    "    if n%2 == 0:\n",
    "        return True\n",
    "    if n%3 == 0:\n",
    "        return True\n",
    "    if n%4 == 0:\n",
    "        return True\n",
    "    if n%5 == 0:\n",
    "        return True\n",
    "    else:\n",
    "        return False"
   ]
  },
  {
   "cell_type": "code",
   "execution_count": 50,
   "id": "eabe3ada",
   "metadata": {},
   "outputs": [],
   "source": [
    "# new refactored code with name as function 2\n",
    "\n",
    "def else12(n):\n",
    "    for x in range(2,6):\n",
    "        if n % x == 0:\n",
    "            return True\n",
    "        else:\n",
    "            return False"
   ]
  },
  {
   "cell_type": "code",
   "execution_count": 54,
   "id": "e22874c0",
   "metadata": {},
   "outputs": [
    {
     "name": "stdout",
     "output_type": "stream",
     "text": [
      "[36, 61, 94, 80, 42, 26, 65, 52, 22, 22]\n"
     ]
    }
   ],
   "source": [
    "tests = [random.randint(1,100) for i in range(10)]\n",
    "print(tests)"
   ]
  },
  {
   "cell_type": "code",
   "execution_count": 55,
   "id": "82e26c18",
   "metadata": {},
   "outputs": [
    {
     "name": "stdout",
     "output_type": "stream",
     "text": [
      "2.64 µs ± 94.1 ns per loop (mean ± std. dev. of 7 runs, 100,000 loops each)\n"
     ]
    }
   ],
   "source": [
    "%%timeit\n",
    "results = [else1(item) for item in tests]\n",
    "\n",
    "#timing and testing original function"
   ]
  },
  {
   "cell_type": "code",
   "execution_count": 56,
   "id": "861b3144",
   "metadata": {},
   "outputs": [
    {
     "name": "stdout",
     "output_type": "stream",
     "text": [
      "4.66 µs ± 191 ns per loop (mean ± std. dev. of 7 runs, 100,000 loops each)\n"
     ]
    }
   ],
   "source": [
    "%%timeit\n",
    "results = [else12(item) for item in tests]\n",
    "\n",
    "#timing and testing new function"
   ]
  },
  {
   "cell_type": "markdown",
   "id": "76a551e2",
   "metadata": {},
   "source": [
    "After refactoring this function, it turns out my original code was\n",
    "\n",
    "actually more efficient despite containing more code. \n",
    "\n",
    "My old code executed in 2.64 microseconds while \n",
    "\n",
    "the new executed in 4.66. \n",
    "\n",
    "This goes to show that more lines of code doesn't necessarily mean less efficient.\n",
    "\n",
    "It's about the content of the code - no loops is more efficient than having a loop."
   ]
  },
  {
   "cell_type": "markdown",
   "id": "a164c1dd",
   "metadata": {},
   "source": [
    "## FUNCTION 5/6 - after03 bmi\n",
    "\n",
    "def bmi(weight, height):  #computes a fitness category based on the body mass index (bmi). bmi = weight (lbs.) / height**2 (inches) * 703\n",
    "\n",
    "    # return the BMI number and class in () on the return line: \n",
    "    #   > 30 \"obese\", \n",
    "    #   25-30 \"overweight\", \n",
    "    #   18.5 - 25 \"healthy weight\", \n",
    "    #   16 - 18.5 \"underweight\", \n",
    "    #   < 16 \"severely underweight\"\n",
    "    # example bmi(230,73) returns (30.34152749108651, 'obese'), boundary values go in the lower (for example 25 returns 'healthy weight')"
   ]
  },
  {
   "cell_type": "code",
   "execution_count": 68,
   "id": "d45e75d6",
   "metadata": {},
   "outputs": [],
   "source": [
    "#code block of original code\n",
    "\n",
    "def bmi(weight,height):\n",
    "    bmi = ((weight) / (height)**2 * 703)\n",
    "    if bmi > 30:\n",
    "        return bmi, 'obese'\n",
    "    elif 25 < bmi <= 30:\n",
    "        return bmi, 'overweight'\n",
    "    elif 18.5 < bmi <= 25:\n",
    "        return bmi, 'healthy weight'\n",
    "    elif 16 < bmi <= 18.5:\n",
    "        return bmi, 'underweight'\n",
    "    elif bmi > 16:\n",
    "        return bmi, 'severely underweight'"
   ]
  },
  {
   "cell_type": "code",
   "execution_count": 69,
   "id": "580a419e",
   "metadata": {},
   "outputs": [],
   "source": [
    "# new refactored code with name as function 2\n",
    "\n",
    "def bmi2(weight,height):\n",
    "    bmi = ((weight) / (height)**2 * 703)\n",
    "    if bmi > 30:\n",
    "        return bmi, 'obese'\n",
    "    elif bmi > 25:\n",
    "        return bmi, 'overweight'\n",
    "    elif bmi > 18.5:\n",
    "        return bmi, 'healthy weight'\n",
    "    elif bmi > 16:\n",
    "        return bmi, 'underweight'\n",
    "    elif bmi < 16:\n",
    "        return bmi, 'severely underweight'"
   ]
  },
  {
   "cell_type": "code",
   "execution_count": 70,
   "id": "1c5ab0e8",
   "metadata": {},
   "outputs": [
    {
     "name": "stdout",
     "output_type": "stream",
     "text": [
      "[(103, 89), (417, 43), (293, 72), (46, 46), (300, 86), (460, 69), (347, 32), (20, 50), (437, 69), (298, 58)]\n"
     ]
    }
   ],
   "source": [
    "pairs = []\n",
    "\n",
    "# loop runs 10 times to create 10 pairs\n",
    "for i in range(10):\n",
    "    # get two random integers between 1 and 100\n",
    "    num2 = random.randint(1, 100) #generate random heights between 1-100 inches tall\n",
    "    num1 = random.randint(1, 500) #generate random weights 1-500 pounds\n",
    "    # put the pair in the list\n",
    "    pairs.append((num1, num2))\n",
    "\n",
    "print(pairs)\n"
   ]
  },
  {
   "cell_type": "code",
   "execution_count": 73,
   "id": "0e336eee",
   "metadata": {},
   "outputs": [
    {
     "name": "stdout",
     "output_type": "stream",
     "text": [
      "8.26 µs ± 165 ns per loop (mean ± std. dev. of 7 runs, 100,000 loops each)\n"
     ]
    }
   ],
   "source": [
    "\n",
    "%%timeit\n",
    "results = [bmi(num1,num2) for item in pairs]\n",
    "\n",
    "#timing and testing original function"
   ]
  },
  {
   "cell_type": "code",
   "execution_count": 74,
   "id": "77327862",
   "metadata": {},
   "outputs": [
    {
     "name": "stdout",
     "output_type": "stream",
     "text": [
      "8.15 µs ± 129 ns per loop (mean ± std. dev. of 7 runs, 100,000 loops each)\n"
     ]
    }
   ],
   "source": [
    "\n",
    "%%timeit\n",
    "results = [bmi2(num1,num2) for item in pairs]\n",
    "\n",
    "#timing and testing new function"
   ]
  },
  {
   "cell_type": "markdown",
   "id": "0b2f9b5e",
   "metadata": {},
   "source": [
    "My new code eliminates the need to classify bmi within ranges.\n",
    "\n",
    "For example, instead of saying any bmi between 18.5 and 25 is healthy,\n",
    "\n",
    "the new code designates anything above 18.5 as healthy, \n",
    "\n",
    "with additional parameters designating >25 as overweight \n",
    "\n",
    "and >30 as obese. Once the if statement reaches a valid return, it stops.\n",
    "\n",
    "This makes the code a tad faster and the code more elegant in nature."
   ]
  },
  {
   "cell_type": "markdown",
   "id": "f35f1f6c",
   "metadata": {},
   "source": [
    "## FUNCTION 6/6 - Assignment1 intersect2d\n",
    "\n",
    "\"intersect2d” accepts 8 numbers representing the opposite corners of 2 axis-aligned 2-dimensional rectangles\n",
    "\n",
    "(Lower Left and Upper Right). The coordinates are to be passed to the function as follows\n",
    "\n",
    "I will test with a statement like: intersect2d(0,0,3,3,4,4,5,5)\n",
    "two opposite corners of the first 2d rectangle as (X,Y) \n",
    "\n",
    "coordinates entered as (example values above):\n",
    "\n",
    "i. LL X (0)\n",
    "ii. LL Y (0)\n",
    "iii. UR X (3)\n",
    "iv. UR Y (3)\n",
    "\n",
    "two opposite corners for the second 2d rectangle as (X,Y) coordinates entered as:\n",
    "v. LL X (4)\n",
    "vi. LL Y (4)\n",
    "vii. UR X (5)\n",
    "viii. UR Y (5)\n",
    "\n",
    "The function should then compute whether or not the \n",
    "\n",
    "two rectangles intersect and return Boolean True if they\n",
    "intersect, or Boolean False if they do not intersect. \n",
    "\n",
    "Consider touching to be an intersection.\n"
   ]
  },
  {
   "cell_type": "code",
   "execution_count": 75,
   "id": "118dffc5",
   "metadata": {},
   "outputs": [],
   "source": [
    "#code block of original code\n",
    "\n",
    "def intersect2d(LLX1, LLY1, URX1, URY1, LLX2, LLY2, URX2, URY2):\n",
    "    \n",
    "    if URX1 < LLX2:\n",
    "        return False\n",
    "        \n",
    "    elif LLX1 > URX2:\n",
    "        return False\n",
    "        \n",
    "    elif URY1 < LLY2:\n",
    "        return False\n",
    "        \n",
    "    elif LLY1 > URY2:\n",
    "        return False\n",
    "        \n",
    "    else:\n",
    "        return True"
   ]
  },
  {
   "cell_type": "code",
   "execution_count": 109,
   "id": "65fd1233",
   "metadata": {},
   "outputs": [],
   "source": [
    "# new refactored code with name as function2\n",
    "\n",
    "def intersect2d2(LLX1,LLY1,URX1,URY1,LLX2,LLY2,URX2,URY2):\n",
    "    if URX1 < LLX2 or LLX1 > URX2 or URY1 < LLY2 or LLY2 > URY2:\n",
    "        return False\n",
    "    else:\n",
    "        return True\n",
    "        \n",
    "        \n",
    "    "
   ]
  },
  {
   "cell_type": "code",
   "execution_count": 110,
   "id": "a1042f74",
   "metadata": {},
   "outputs": [
    {
     "name": "stdout",
     "output_type": "stream",
     "text": [
      "[[45, 9, 89, 66, 32, 91, 76, 14], [82, 20, 93, 29, 97, 16, 11, 10], [46, 19, 7, 62, 19, 46, 36, 1], [10, 20, 8, 92, 43, 84, 82, 25], [43, 48, 63, 49, 43, 60, 72, 5], [83, 1, 18, 10, 77, 56, 54, 52], [100, 59, 66, 32, 91, 78, 24, 59], [59, 37, 75, 8, 2, 54, 15, 34], [75, 60, 41, 5, 35, 28, 35, 60], [3, 4, 71, 62, 35, 58, 75, 58]]\n"
     ]
    }
   ],
   "source": [
    "tests = [[random.randint(1,100) for i in range(8)]for i in range(10)]\n",
    "print(tests)"
   ]
  },
  {
   "cell_type": "code",
   "execution_count": 111,
   "id": "f8b9471a",
   "metadata": {},
   "outputs": [
    {
     "name": "stdout",
     "output_type": "stream",
     "text": [
      "2.95 µs ± 95.3 ns per loop (mean ± std. dev. of 7 runs, 100,000 loops each)\n"
     ]
    }
   ],
   "source": [
    "%%timeit\n",
    "results = [intersect2d(*item) for item in tests]\n",
    "\n",
    "#timing and testing original function"
   ]
  },
  {
   "cell_type": "code",
   "execution_count": 114,
   "id": "86d91fbc",
   "metadata": {},
   "outputs": [
    {
     "name": "stdout",
     "output_type": "stream",
     "text": [
      "2.98 µs ± 38.7 ns per loop (mean ± std. dev. of 7 runs, 100,000 loops each)\n"
     ]
    }
   ],
   "source": [
    "%%timeit\n",
    "results = [intersect2d2(*item) for item in tests]\n",
    "\n",
    "#timing and testing new function"
   ]
  },
  {
   "cell_type": "markdown",
   "id": "59ea0980",
   "metadata": {},
   "source": [
    "When timed, we can see that my old and new code performed very similarly.\n",
    "\n",
    "However, my new code presents a much more concise and thus elegant solution.\n",
    "\n",
    "I was able to pare down my code to an if-else statement, when \n",
    "\n",
    "originally it was if-elif-elif-elif-else."
   ]
  }
 ],
 "metadata": {
  "kernelspec": {
   "display_name": "Python 3 (ipykernel)",
   "language": "python",
   "name": "python3"
  },
  "language_info": {
   "codemirror_mode": {
    "name": "ipython",
    "version": 3
   },
   "file_extension": ".py",
   "mimetype": "text/x-python",
   "name": "python",
   "nbconvert_exporter": "python",
   "pygments_lexer": "ipython3",
   "version": "3.9.12"
  }
 },
 "nbformat": 4,
 "nbformat_minor": 5
}
