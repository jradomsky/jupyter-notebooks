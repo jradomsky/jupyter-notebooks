{
 "cells": [
  {
   "cell_type": "code",
   "execution_count": null,
   "id": "b5f67faa",
   "metadata": {},
   "outputs": [],
   "source": [
    "import arcpy"
   ]
  },
  {
   "cell_type": "markdown",
   "id": "6565e52d",
   "metadata": {},
   "source": [
    "# Export Training Data"
   ]
  },
  {
   "cell_type": "code",
   "execution_count": null,
   "id": "adbab0ab",
   "metadata": {},
   "outputs": [],
   "source": [
    "with arcpy.EnvManager(cellSize=\"kolovai\"):\n",
    "    arcpy.ia.ExportTrainingDataForDeepLearning(\n",
    "        in_raster=\"kolovai\",\n",
    "        out_folder=r\"C:\\Algorithms in GIS\\Assignments\\Assignment 8\\Kolovai\\imagechips\",\n",
    "        in_class_data=r\"C:\\Algorithms in GIS\\Assignments\\Assignment 8\\Kolovai\\Kolovai.gdb\\PalmTraining\",\n",
    "        image_chip_format=\"JPEG\",\n",
    "        tile_size_x=256,\n",
    "        tile_size_y=256,\n",
    "        stride_x=128,\n",
    "        stride_y=128,\n",
    "        output_nofeature_tiles=\"ONLY_TILES_WITH_FEATURES\",\n",
    "        metadata_format=\"PASCAL_VOC_rectangles\",\n",
    "        start_index=0,\n",
    "        class_value_field=\"Classvalue\",\n",
    "        buffer_radius=0,\n",
    "        in_mask_polygons=None,\n",
    "        rotation_angle=0,\n",
    "        reference_system=\"MAP_SPACE\",\n",
    "        processing_mode=\"PROCESS_AS_MOSAICKED_IMAGE\",\n",
    "        blacken_around_feature=\"NO_BLACKEN\",\n",
    "        crop_mode=\"FIXED_SIZE\",\n",
    "        in_raster2=None,\n",
    "        in_instance_data=None,\n",
    "        instance_class_value_field=None,\n",
    "        min_polygon_overlap_ratio=0\n",
    "    )"
   ]
  },
  {
   "cell_type": "markdown",
   "id": "6402c5e2",
   "metadata": {},
   "source": [
    "# Train Deep Learning Model"
   ]
  },
  {
   "cell_type": "code",
   "execution_count": null,
   "id": "37dad3a7",
   "metadata": {},
   "outputs": [],
   "source": [
    "with arcpy.EnvManager(processorType=\"GPU\"):\n",
    "    arcpy.ia.TrainDeepLearningModel(\n",
    "        in_folder=r\"'C:\\Algorithms in GIS\\Assignments\\Assignment 8\\Kolovai\\imagechips'\",\n",
    "        out_folder=r\"C:\\Algorithms in GIS\\Assignments\\Assignment 8\\Kolovai\\classify_palms\",\n",
    "        max_epochs=50,\n",
    "        model_type=\"SSD\",\n",
    "        batch_size=8,\n",
    "        arguments=\"grids #;zooms 1.0;ratios '[1.0, 1.0]';chip_size 224;resize_to #;monitor valid_loss\",\n",
    "        learning_rate=None,\n",
    "        backbone_model=\"RESNET34\",\n",
    "        pretrained_model=None,\n",
    "        validation_percentage=10,\n",
    "        stop_training=\"CONTINUE_TRAINING\",\n",
    "        freeze=\"FREEZE_MODEL\"\n",
    "    )"
   ]
  },
  {
   "cell_type": "markdown",
   "id": "ba36fe8c",
   "metadata": {},
   "source": [
    "# Detect Palms in Detection Area"
   ]
  },
  {
   "cell_type": "code",
   "execution_count": null,
   "id": "06f5a91e",
   "metadata": {},
   "outputs": [],
   "source": [
    "with arcpy.EnvManager(extent='-19519422.1439432 -2403698.42440281 -19519179.2747188 -2403566.8203896 PROJCS[\"unnamed_ellipse_Mercator_2SP\",GEOGCS[\"GCS_unnamed_ellipse\",DATUM[\"D_unknown\",SPHEROID[\"Unknown\",6378137.0,0.0]],PRIMEM[\"Greenwich\",0.0],UNIT[\"Degree\",0.0174532925199433]],PROJECTION[\"Mercator_2SP\"],PARAMETER[\"false_easting\",0.0],PARAMETER[\"false_northing\",0.0],PARAMETER[\"central_meridian\",0.0],PARAMETER[\"standard_parallel_1\",0.0],UNIT[\"Meter\",1.0]]', cellSize=\"kolovai\", processorType=\"GPU\"):\n",
    "    out_classified_raster = arcpy.ia.DetectObjectsUsingDeepLearning(\n",
    "        in_raster=\"kolovai\",\n",
    "        out_detected_objects=r\"C:\\Algorithms in GIS\\Assignments\\Assignment 8\\Kolovai\\Kolovai.gdb\\DetectedPalms\",\n",
    "        in_model_definition=r\"C:\\Algorithms in GIS\\Assignments\\Assignment 8\\Kolovai\\classify_palms\\classify_palms.dlpk\",\n",
    "        arguments=\"padding 56;threshold 0.2;nms_overlap 0.1;batch_size 8;exclude_pad_detections True;test_time_augmentation False\",\n",
    "        run_nms=\"NO_NMS\",\n",
    "        confidence_score_field=\"Confidence\",\n",
    "        class_value_field=\"Class\",\n",
    "        max_overlap_ratio=0,\n",
    "        processing_mode=\"PROCESS_AS_MOSAICKED_IMAGE\"\n",
    "    )\n",
    "out_classified_raster.save(None)"
   ]
  },
  {
   "cell_type": "markdown",
   "id": "6f8213cb",
   "metadata": {},
   "source": [
    "# Detect Palms in entire image"
   ]
  },
  {
   "cell_type": "code",
   "execution_count": null,
   "id": "a97f8d73",
   "metadata": {},
   "outputs": [],
   "source": [
    "with arcpy.EnvManager(extent=\"DEFAULT\", cellSize=\"kolovai\", processorType=\"GPU\"):\n",
    "    out_classified_raster = arcpy.ia.DetectObjectsUsingDeepLearning(\n",
    "        in_raster=\"kolovai\",\n",
    "        out_detected_objects=r\"C:\\Algorithms in GIS\\Assignments\\Assignment 8\\Kolovai\\Kolovai.gdb\\DetectedPalms\",\n",
    "        in_model_definition=r\"C:\\Algorithms in GIS\\Assignments\\Assignment 8\\Kolovai\\classify_palms\\classify_palms.dlpk\",\n",
    "        arguments=\"padding 56;threshold 0.2;nms_overlap 0.1;batch_size 8;exclude_pad_detections True;test_time_augmentation False\",\n",
    "        run_nms=\"NO_NMS\",\n",
    "        confidence_score_field=\"Confidence\",\n",
    "        class_value_field=\"Class\",\n",
    "        max_overlap_ratio=0,\n",
    "        processing_mode=\"PROCESS_AS_MOSAICKED_IMAGE\"\n",
    "    )\n",
    "out_classified_raster.save(None)"
   ]
  },
  {
   "cell_type": "markdown",
   "id": "2da8f579",
   "metadata": {},
   "source": [
    "## All steps up to 'Refine detected features' have been included in this notebook.\n",
    "\n",
    "### Python code copied and pasted from geoprocessing history."
   ]
  }
 ],
 "metadata": {
  "kernelspec": {
   "display_name": "Python 3 (ipykernel)",
   "language": "python",
   "name": "python3"
  },
  "language_info": {
   "codemirror_mode": {
    "name": "ipython",
    "version": 3
   },
   "file_extension": ".py",
   "mimetype": "text/x-python",
   "name": "python",
   "nbconvert_exporter": "python",
   "pygments_lexer": "ipython3",
   "version": "3.9.0"
  }
 },
 "nbformat": 4,
 "nbformat_minor": 5
}
